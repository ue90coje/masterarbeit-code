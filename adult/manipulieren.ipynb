{
 "cells": [
  {
   "cell_type": "code",
   "execution_count": 6,
   "metadata": {},
   "outputs": [],
   "source": [
    "import numpy as np\n",
    "import pandas as pd\n",
    "import seaborn as sns\n",
    "from sklearn.ensemble import RandomForestClassifier, AdaBoostClassifier, GradientBoostingClassifier, VotingClassifier\n",
    "from sklearn.linear_model import LogisticRegression\n",
    "from sklearn.neighbors import KNeighborsClassifier\n",
    "from sklearn.tree import DecisionTreeClassifier\n",
    "import python_files.Generalisierung as Generalisierung\n",
    "from adult.python_files.VorverarbeitungsDatensatz import Spalten"
   ]
  },
  {
   "cell_type": "code",
   "execution_count": 7,
   "metadata": {},
   "outputs": [],
   "source": [
    "data= pd.read_csv('dataset/adult_train.csv')"
   ]
  },
  {
   "cell_type": "code",
   "execution_count": 8,
   "metadata": {},
   "outputs": [],
   "source": [
    "data.drop(columns=['education-num'], inplace=True)\n",
    "data = Generalisierung.generalisiere_gleichverteilt(data, [e for e in Spalten])"
   ]
  },
  {
   "cell_type": "code",
   "execution_count": 9,
   "metadata": {},
   "outputs": [
    {
     "name": "stdout",
     "output_type": "stream",
     "text": [
      "<class 'pandas.core.frame.DataFrame'>\n",
      "RangeIndex: 36177 entries, 0 to 36176\n",
      "Data columns (total 15 columns):\n",
      " #   Column          Non-Null Count  Dtype \n",
      "---  ------          --------------  ----- \n",
      " 0   record_id       36177 non-null  int64 \n",
      " 1   age             36177 non-null  object\n",
      " 2   workclass       36177 non-null  object\n",
      " 3   fnlwgt          36177 non-null  object\n",
      " 4   education       36177 non-null  object\n",
      " 5   marital-status  36177 non-null  object\n",
      " 6   occupation      36177 non-null  object\n",
      " 7   relationship    36177 non-null  object\n",
      " 8   race            36177 non-null  object\n",
      " 9   sex             36177 non-null  object\n",
      " 10  capital-gain    36177 non-null  object\n",
      " 11  capital-loss    36177 non-null  object\n",
      " 12  hours-per-week  36177 non-null  object\n",
      " 13  native-country  36177 non-null  object\n",
      " 14  income          36177 non-null  int64 \n",
      "dtypes: int64(2), object(13)\n",
      "memory usage: 4.1+ MB\n"
     ]
    }
   ],
   "source": [
    "data.info()"
   ]
  },
  {
   "cell_type": "code",
   "execution_count": 10,
   "metadata": {},
   "outputs": [],
   "source": [
    "#Dataframe als csv-Datei speichern\n",
    "data.to_csv('dataset/manipuliert/adult_train.csv', index=False)"
   ]
  }
 ],
 "metadata": {
  "kernelspec": {
   "display_name": "Python 3",
   "language": "python",
   "name": "python3"
  },
  "language_info": {
   "codemirror_mode": {
    "name": "ipython",
    "version": 3
   },
   "file_extension": ".py",
   "mimetype": "text/x-python",
   "name": "python",
   "nbconvert_exporter": "python",
   "pygments_lexer": "ipython3",
   "version": "3.11.9"
  }
 },
 "nbformat": 4,
 "nbformat_minor": 2
}
