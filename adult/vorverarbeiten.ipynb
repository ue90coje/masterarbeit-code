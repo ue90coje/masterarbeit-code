{
 "cells": [
  {
   "cell_type": "code",
   "execution_count": 1,
   "metadata": {},
   "outputs": [],
   "source": [
    "from python_files.Vorverarbeitung import prepare_specialization, prepare_extended_specialization, prepare_forced_generalization"
   ]
  },
  {
   "cell_type": "code",
   "execution_count": null,
   "metadata": {},
   "outputs": [],
   "source": [
    "prepare_specialization(complete_anonymization=False)\n",
    "prepare_forced_generalization(complete_anonymization=False)\n",
    "prepare_extended_specialization(complete_anonymization=False)\n",
    "\n",
    "prepare_specialization(complete_anonymization=True)\n",
    "prepare_forced_generalization(complete_anonymization=True)\n",
    "prepare_extended_specialization(complete_anonymization=True)"
   ]
  }
 ],
 "metadata": {
  "kernelspec": {
   "display_name": "base",
   "language": "python",
   "name": "python3"
  },
  "language_info": {
   "codemirror_mode": {
    "name": "ipython",
    "version": 3
   },
   "file_extension": ".py",
   "mimetype": "text/x-python",
   "name": "python",
   "nbconvert_exporter": "python",
   "pygments_lexer": "ipython3",
   "version": "3.10.9"
  }
 },
 "nbformat": 4,
 "nbformat_minor": 2
}
