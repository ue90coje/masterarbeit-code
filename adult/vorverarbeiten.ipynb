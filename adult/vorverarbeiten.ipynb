{
 "cells": [
  {
   "cell_type": "code",
   "execution_count": 1,
   "metadata": {},
   "outputs": [],
   "source": [
    "from python_files.Vorverarbeitung import prepare_columns_and_save_to_csv, prepare_generalized_data, Szenario\n",
    "import pandas as pd"
   ]
  },
  {
   "cell_type": "code",
   "execution_count": 3,
   "metadata": {},
   "outputs": [
    {
     "name": "stdout",
     "output_type": "stream",
     "text": [
      "Dataframe age wurde vorverarbeitet und gespeichert\n",
      "Dataframe fnlwgt wurde vorverarbeitet und gespeichert\n",
      "Dataframe capital-gain wurde vorverarbeitet und gespeichert\n",
      "Dataframe capital-loss wurde vorverarbeitet und gespeichert\n",
      "Dataframe hours-per-week wurde vorverarbeitet und gespeichert\n",
      "Dataframe sex wurde vorverarbeitet und gespeichert\n",
      "Dataframe workclass wurde vorverarbeitet und gespeichert\n",
      "Dataframe education wurde vorverarbeitet und gespeichert\n",
      "Dataframe marital-status wurde vorverarbeitet und gespeichert\n",
      "Dataframe occupation wurde vorverarbeitet und gespeichert\n",
      "Dataframe relationship wurde vorverarbeitet und gespeichert\n",
      "Dataframe race wurde vorverarbeitet und gespeichert\n",
      "Dataframe native-country wurde vorverarbeitet und gespeichert\n"
     ]
    }
   ],
   "source": [
    "prepare_generalized_data(Szenario.Szenario6)"
   ]
  }
 ],
 "metadata": {
  "kernelspec": {
   "display_name": "Python 3",
   "language": "python",
   "name": "python3"
  },
  "language_info": {
   "codemirror_mode": {
    "name": "ipython",
    "version": 3
   },
   "file_extension": ".py",
   "mimetype": "text/x-python",
   "name": "python",
   "nbconvert_exporter": "python",
   "pygments_lexer": "ipython3",
   "version": "3.10.9"
  }
 },
 "nbformat": 4,
 "nbformat_minor": 2
}
