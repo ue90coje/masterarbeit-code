{
 "cells": [
  {
   "cell_type": "code",
   "execution_count": 4,
   "metadata": {},
   "outputs": [],
   "source": [
    "import pandas as pd"
   ]
  },
  {
   "cell_type": "code",
   "execution_count": 5,
   "metadata": {},
   "outputs": [],
   "source": [
    "data = pd.read_csv('dataset/diabetes_cleaned.csv')"
   ]
  },
  {
   "cell_type": "code",
   "execution_count": 14,
   "metadata": {},
   "outputs": [
    {
     "name": "stdout",
     "output_type": "stream",
     "text": [
      "[1, 2, 3, 4, 5, 6]\n"
     ]
    }
   ],
   "source": [
    "#alle Werte, die in Spalte age vorkommen, aufsteigend sortiert\n",
    "print(sorted(data['Education'].unique()))"
   ]
  },
  {
   "cell_type": "code",
   "execution_count": 1,
   "metadata": {},
   "outputs": [],
   "source": [
    "from python_files.Vorverarbeitung import get_data_analysis\n",
    "from python_files.Anonymization import Anonymization"
   ]
  },
  {
   "cell_type": "code",
   "execution_count": 5,
   "metadata": {},
   "outputs": [
    {
     "name": "stdout",
     "output_type": "stream",
     "text": [
      "Spalte HighBP wird analysiert\n",
      "Anzahl Einträge: 56553\n",
      "Original: 0.5000442063197355, Generalized: 0.0, Missing: 0.49995579368026455\n",
      "Spalte HighBP wird analysiert\n",
      "Anzahl Einträge: 14139\n",
      "Original: 0.5010962585755712, Generalized: 0.0, Missing: 0.4989037414244289\n",
      "Spalte HighChol wird analysiert\n",
      "Anzahl Einträge: 56553\n",
      "Original: 0.500751507435503, Generalized: 0.0, Missing: 0.499248492564497\n",
      "Spalte HighChol wird analysiert\n",
      "Anzahl Einträge: 14139\n",
      "Original: 0.49840865690642905, Generalized: 0.0, Missing: 0.501591343093571\n",
      "Spalte CholCheck wird analysiert\n",
      "Anzahl Einträge: 56553\n",
      "Original: 0.5026789029759694, Generalized: 0.0, Missing: 0.49732109702403055\n",
      "Spalte CholCheck wird analysiert\n",
      "Anzahl Einträge: 14139\n",
      "Original: 0.5027936912087135, Generalized: 0.0, Missing: 0.4972063087912865\n",
      "Spalte BMI wird analysiert\n",
      "Anzahl Einträge: 56553\n",
      "Original: 0.33382844411437057, Generalized: 0.33259066716177743, Missing: 0.33358088872385194\n",
      "Spalte BMI wird analysiert\n",
      "Anzahl Einträge: 14139\n",
      "Original: 0.3317066270599052, Generalized: 0.33297970153476203, Missing: 0.33531367140533275\n",
      "Spalte Smoker wird analysiert\n",
      "Anzahl Einträge: 56553\n",
      "Original: 0.4990893498134493, Generalized: 0.0, Missing: 0.5009106501865507\n",
      "Spalte Smoker wird analysiert\n",
      "Anzahl Einträge: 14139\n",
      "Original: 0.4892142301435745, Generalized: 0.0, Missing: 0.5107857698564255\n",
      "Spalte Stroke wird analysiert\n",
      "Anzahl Einträge: 56553\n",
      "Original: 0.4978162078050678, Generalized: 0.0, Missing: 0.5021837921949321\n",
      "Spalte Stroke wird analysiert\n",
      "Anzahl Einträge: 14139\n",
      "Original: 0.5002475422589999, Generalized: 0.0, Missing: 0.4997524577410001\n",
      "Spalte HeartDiseaseorAttack wird analysiert\n",
      "Anzahl Einträge: 56553\n",
      "Original: 0.5008929676586564, Generalized: 0.0, Missing: 0.4991070323413435\n",
      "Spalte HeartDiseaseorAttack wird analysiert\n",
      "Anzahl Einträge: 14139\n",
      "Original: 0.5025107857698564, Generalized: 0.0, Missing: 0.4974892142301436\n",
      "Spalte PhysActivity wird analysiert\n",
      "Anzahl Einträge: 56553\n",
      "Original: 0.5011405230491751, Generalized: 0.0, Missing: 0.4988594769508249\n",
      "Spalte PhysActivity wird analysiert\n",
      "Anzahl Einträge: 14139\n",
      "Original: 0.5032887757267134, Generalized: 0.0, Missing: 0.4967112242732867\n",
      "Spalte Fruits wird analysiert\n",
      "Anzahl Einträge: 56553\n",
      "Original: 0.49603027248775483, Generalized: 0.0, Missing: 0.5039697275122451\n",
      "Spalte Fruits wird analysiert\n",
      "Anzahl Einträge: 14139\n",
      "Original: 0.5022986066907136, Generalized: 0.0, Missing: 0.49770139330928637\n",
      "Spalte Veggies wird analysiert\n",
      "Anzahl Einträge: 56553\n",
      "Original: 0.5009106501865507, Generalized: 0.0, Missing: 0.4990893498134493\n",
      "Spalte Veggies wird analysiert\n",
      "Anzahl Einträge: 14139\n",
      "Original: 0.5059056510361412, Generalized: 0.0, Missing: 0.49409434896385884\n",
      "Spalte HvyAlcoholConsump wird analysiert\n",
      "Anzahl Einträge: 56553\n",
      "Original: 0.49889484200661327, Generalized: 0.0, Missing: 0.5011051579933867\n",
      "Spalte HvyAlcoholConsump wird analysiert\n",
      "Anzahl Einträge: 14139\n",
      "Original: 0.5001060895395714, Generalized: 0.0, Missing: 0.4998939104604286\n",
      "Spalte AnyHealthcare wird analysiert\n",
      "Anzahl Einträge: 56553\n",
      "Original: 0.4988241118950365, Generalized: 0.0, Missing: 0.5011758881049635\n",
      "Spalte AnyHealthcare wird analysiert\n",
      "Anzahl Einträge: 14139\n",
      "Original: 0.4968526769927152, Generalized: 0.0, Missing: 0.5031473230072848\n",
      "Spalte NoDocbcCost wird analysiert\n",
      "Anzahl Einträge: 56553\n",
      "Original: 0.5009813802981274, Generalized: 0.0, Missing: 0.49901861970187256\n",
      "Spalte NoDocbcCost wird analysiert\n",
      "Anzahl Einträge: 14139\n",
      "Original: 0.4972770351510008, Generalized: 0.0, Missing: 0.5027229648489993\n",
      "Spalte GenHlth wird analysiert\n",
      "Anzahl Einträge: 56553\n",
      "Original: 0.49748023977507827, Generalized: 0.0, Missing: 0.5025197602249217\n",
      "Spalte GenHlth wird analysiert\n",
      "Anzahl Einträge: 14139\n",
      "Original: 0.4931749062875734, Generalized: 0.0, Missing: 0.5068250937124266\n",
      "Spalte MentHlth wird analysiert\n",
      "Anzahl Einträge: 56553\n",
      "Original: 0.3333333333333333, Generalized: 0.33214860396442275, Missing: 0.33451806270224393\n",
      "Spalte MentHlth wird analysiert\n",
      "Anzahl Einträge: 14139\n",
      "Original: 0.3342527760096188, Generalized: 0.3377890939953321, Missing: 0.32795812999504914\n",
      "Spalte PhysHlth wird analysiert\n",
      "Anzahl Einträge: 56553\n",
      "Original: 0.33550828426431845, Generalized: 0.33545523668063587, Missing: 0.3290364790550457\n",
      "Spalte PhysHlth wird analysiert\n",
      "Anzahl Einträge: 14139\n",
      "Original: 0.32937265718933445, Generalized: 0.33128226890161966, Missing: 0.3393450739090459\n",
      "Spalte DiffWalk wird analysiert\n",
      "Anzahl Einträge: 56553\n",
      "Original: 0.4978515728608562, Generalized: 0.0, Missing: 0.5021484271391438\n",
      "Spalte DiffWalk wird analysiert\n",
      "Anzahl Einträge: 14139\n",
      "Original: 0.5083103472664262, Generalized: 0.0, Missing: 0.4916896527335738\n",
      "Spalte Sex wird analysiert\n",
      "Anzahl Einträge: 56553\n",
      "Original: 0.5029618234222765, Generalized: 0.0, Missing: 0.49703817657772353\n",
      "Spalte Sex wird analysiert\n",
      "Anzahl Einträge: 14139\n",
      "Original: 0.5068958200721408, Generalized: 0.0, Missing: 0.4931041799278591\n",
      "Spalte Age wird analysiert\n",
      "Anzahl Einträge: 56553\n",
      "Original: 0.33329796827754493, Generalized: 0.33630399801955685, Missing: 0.33039803370289816\n",
      "Spalte Age wird analysiert\n",
      "Anzahl Einträge: 14139\n",
      "Original: 0.33496003960676146, Generalized: 0.3411839592616168, Missing: 0.3238560011316218\n",
      "Spalte Education wird analysiert\n",
      "Anzahl Einträge: 56553\n",
      "Original: 0.3336869838912171, Generalized: 0.3301858433681679, Missing: 0.336127172740615\n",
      "Spalte Education wird analysiert\n",
      "Anzahl Einträge: 14139\n",
      "Original: 0.33283824881533347, Generalized: 0.3331918806139048, Missing: 0.3339698705707617\n",
      "Spalte Income wird analysiert\n",
      "Anzahl Einträge: 56553\n",
      "Original: 0.3322016515481053, Generalized: 0.3328028574965077, Missing: 0.334995490955387\n",
      "Spalte Income wird analysiert\n",
      "Anzahl Einträge: 14139\n",
      "Original: 0.32916047811019167, Generalized: 0.3379305467147606, Missing: 0.33290897517504775\n",
      "Train: Original: 0.4522954868294637, Generalized: 0.09521367650909848, Missing: 0.4524908366614378\n",
      "Test: Original: 0.4524129476389182, Generalized: 0.09592178338199982, Missing: 0.45166526897908194\n",
      "Total: Original: 0.45235421723419095, Generalized: 0.09556772994554916, Missing: 0.45207805282025987\n"
     ]
    }
   ],
   "source": [
    "get_data_analysis(Anonymization.complete)"
   ]
  }
 ],
 "metadata": {
  "kernelspec": {
   "display_name": "Python 3",
   "language": "python",
   "name": "python3"
  },
  "language_info": {
   "codemirror_mode": {
    "name": "ipython",
    "version": 3
   },
   "file_extension": ".py",
   "mimetype": "text/x-python",
   "name": "python",
   "nbconvert_exporter": "python",
   "pygments_lexer": "ipython3",
   "version": "3.10.9"
  }
 },
 "nbformat": 4,
 "nbformat_minor": 2
}
